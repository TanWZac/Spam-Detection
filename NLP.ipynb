{
 "cells": [
  {
   "cell_type": "code",
   "execution_count": 1,
   "id": "9889f83a",
   "metadata": {},
   "outputs": [
    {
     "data": {
      "text/html": [
       "<div>\n",
       "<style scoped>\n",
       "    .dataframe tbody tr th:only-of-type {\n",
       "        vertical-align: middle;\n",
       "    }\n",
       "\n",
       "    .dataframe tbody tr th {\n",
       "        vertical-align: top;\n",
       "    }\n",
       "\n",
       "    .dataframe thead th {\n",
       "        text-align: right;\n",
       "    }\n",
       "</style>\n",
       "<table border=\"1\" class=\"dataframe\">\n",
       "  <thead>\n",
       "    <tr style=\"text-align: right;\">\n",
       "      <th></th>\n",
       "      <th>CATEGORY</th>\n",
       "      <th>MESSAGE</th>\n",
       "      <th>FILE_NAME</th>\n",
       "    </tr>\n",
       "  </thead>\n",
       "  <tbody>\n",
       "    <tr>\n",
       "      <th>0</th>\n",
       "      <td>1</td>\n",
       "      <td>Dear Homeowner,\\n\\n \\n\\nInterest Rates are at ...</td>\n",
       "      <td>00249.5f45607c1bffe89f60ba1ec9f878039a</td>\n",
       "    </tr>\n",
       "    <tr>\n",
       "      <th>1</th>\n",
       "      <td>1</td>\n",
       "      <td>ATTENTION: This is a MUST for ALL Computer Use...</td>\n",
       "      <td>00373.ebe8670ac56b04125c25100a36ab0510</td>\n",
       "    </tr>\n",
       "    <tr>\n",
       "      <th>2</th>\n",
       "      <td>1</td>\n",
       "      <td>This is a multi-part message in MIME format.\\n...</td>\n",
       "      <td>00214.1367039e50dc6b7adb0f2aa8aba83216</td>\n",
       "    </tr>\n",
       "    <tr>\n",
       "      <th>3</th>\n",
       "      <td>1</td>\n",
       "      <td>IMPORTANT INFORMATION:\\n\\n\\n\\nThe new domain n...</td>\n",
       "      <td>00210.050ffd105bd4e006771ee63cabc59978</td>\n",
       "    </tr>\n",
       "    <tr>\n",
       "      <th>4</th>\n",
       "      <td>1</td>\n",
       "      <td>This is the bottom line.  If you can GIVE AWAY...</td>\n",
       "      <td>00033.9babb58d9298daa2963d4f514193d7d6</td>\n",
       "    </tr>\n",
       "    <tr>\n",
       "      <th>...</th>\n",
       "      <td>...</td>\n",
       "      <td>...</td>\n",
       "      <td>...</td>\n",
       "    </tr>\n",
       "    <tr>\n",
       "      <th>5791</th>\n",
       "      <td>0</td>\n",
       "      <td>I'm one of the 30,000 but it's not working ver...</td>\n",
       "      <td>00609.dd49926ce94a1ea328cce9b62825bc97</td>\n",
       "    </tr>\n",
       "    <tr>\n",
       "      <th>5792</th>\n",
       "      <td>0</td>\n",
       "      <td>Damien Morton quoted:\\n\\n&gt;W3C approves HTML 4 ...</td>\n",
       "      <td>00957.e0b56b117f3ec5f85e432a9d2a47801f</td>\n",
       "    </tr>\n",
       "    <tr>\n",
       "      <th>5793</th>\n",
       "      <td>0</td>\n",
       "      <td>On Mon, 2002-07-22 at 06:50, che wrote:\\n\\n\\n\\...</td>\n",
       "      <td>01127.841233b48eceb74a825417d8d918abf8</td>\n",
       "    </tr>\n",
       "    <tr>\n",
       "      <th>5794</th>\n",
       "      <td>0</td>\n",
       "      <td>Once upon a time, Manfred wrote :\\n\\n\\n\\n&gt; I w...</td>\n",
       "      <td>01178.5c977dff972cd6eef64d4173b90307f0</td>\n",
       "    </tr>\n",
       "    <tr>\n",
       "      <th>5795</th>\n",
       "      <td>0</td>\n",
       "      <td>If you run Pick, and then use the \"New FTOC\" b...</td>\n",
       "      <td>00747.352d424267d36975a7b40b85ffd0885e</td>\n",
       "    </tr>\n",
       "  </tbody>\n",
       "</table>\n",
       "<p>5796 rows × 3 columns</p>\n",
       "</div>"
      ],
      "text/plain": [
       "      CATEGORY                                            MESSAGE  \\\n",
       "0            1  Dear Homeowner,\\n\\n \\n\\nInterest Rates are at ...   \n",
       "1            1  ATTENTION: This is a MUST for ALL Computer Use...   \n",
       "2            1  This is a multi-part message in MIME format.\\n...   \n",
       "3            1  IMPORTANT INFORMATION:\\n\\n\\n\\nThe new domain n...   \n",
       "4            1  This is the bottom line.  If you can GIVE AWAY...   \n",
       "...        ...                                                ...   \n",
       "5791         0  I'm one of the 30,000 but it's not working ver...   \n",
       "5792         0  Damien Morton quoted:\\n\\n>W3C approves HTML 4 ...   \n",
       "5793         0  On Mon, 2002-07-22 at 06:50, che wrote:\\n\\n\\n\\...   \n",
       "5794         0  Once upon a time, Manfred wrote :\\n\\n\\n\\n> I w...   \n",
       "5795         0  If you run Pick, and then use the \"New FTOC\" b...   \n",
       "\n",
       "                                   FILE_NAME  \n",
       "0     00249.5f45607c1bffe89f60ba1ec9f878039a  \n",
       "1     00373.ebe8670ac56b04125c25100a36ab0510  \n",
       "2     00214.1367039e50dc6b7adb0f2aa8aba83216  \n",
       "3     00210.050ffd105bd4e006771ee63cabc59978  \n",
       "4     00033.9babb58d9298daa2963d4f514193d7d6  \n",
       "...                                      ...  \n",
       "5791  00609.dd49926ce94a1ea328cce9b62825bc97  \n",
       "5792  00957.e0b56b117f3ec5f85e432a9d2a47801f  \n",
       "5793  01127.841233b48eceb74a825417d8d918abf8  \n",
       "5794  01178.5c977dff972cd6eef64d4173b90307f0  \n",
       "5795  00747.352d424267d36975a7b40b85ffd0885e  \n",
       "\n",
       "[5796 rows x 3 columns]"
      ]
     },
     "execution_count": 1,
     "metadata": {},
     "output_type": "execute_result"
    }
   ],
   "source": [
    "import pandas as pd\n",
    "df = pd.read_csv(\"C:/Users/twz18/Downloads/Spam Email raw text for NLP.csv\")\n",
    "df"
   ]
  },
  {
   "cell_type": "code",
   "execution_count": 2,
   "id": "fed78bff",
   "metadata": {},
   "outputs": [
    {
     "data": {
      "text/html": [
       "<div>\n",
       "<style scoped>\n",
       "    .dataframe tbody tr th:only-of-type {\n",
       "        vertical-align: middle;\n",
       "    }\n",
       "\n",
       "    .dataframe tbody tr th {\n",
       "        vertical-align: top;\n",
       "    }\n",
       "\n",
       "    .dataframe thead th {\n",
       "        text-align: right;\n",
       "    }\n",
       "</style>\n",
       "<table border=\"1\" class=\"dataframe\">\n",
       "  <thead>\n",
       "    <tr style=\"text-align: right;\">\n",
       "      <th></th>\n",
       "      <th>CATEGORY</th>\n",
       "      <th>MESSAGE</th>\n",
       "      <th>FILE_NAME</th>\n",
       "    </tr>\n",
       "  </thead>\n",
       "  <tbody>\n",
       "    <tr>\n",
       "      <th>0</th>\n",
       "      <td>1</td>\n",
       "      <td>Dear Homeowner,\\n\\n \\n\\nInterest Rates are at ...</td>\n",
       "      <td>00249.5f45607c1bffe89f60ba1ec9f878039a</td>\n",
       "    </tr>\n",
       "    <tr>\n",
       "      <th>1</th>\n",
       "      <td>1</td>\n",
       "      <td>ATTENTION: This is a MUST for ALL Computer Use...</td>\n",
       "      <td>00373.ebe8670ac56b04125c25100a36ab0510</td>\n",
       "    </tr>\n",
       "    <tr>\n",
       "      <th>2</th>\n",
       "      <td>1</td>\n",
       "      <td>This is a multi-part message in MIME format.\\n...</td>\n",
       "      <td>00214.1367039e50dc6b7adb0f2aa8aba83216</td>\n",
       "    </tr>\n",
       "    <tr>\n",
       "      <th>3</th>\n",
       "      <td>1</td>\n",
       "      <td>IMPORTANT INFORMATION:\\n\\n\\n\\nThe new domain n...</td>\n",
       "      <td>00210.050ffd105bd4e006771ee63cabc59978</td>\n",
       "    </tr>\n",
       "    <tr>\n",
       "      <th>4</th>\n",
       "      <td>1</td>\n",
       "      <td>This is the bottom line.  If you can GIVE AWAY...</td>\n",
       "      <td>00033.9babb58d9298daa2963d4f514193d7d6</td>\n",
       "    </tr>\n",
       "  </tbody>\n",
       "</table>\n",
       "</div>"
      ],
      "text/plain": [
       "   CATEGORY                                            MESSAGE  \\\n",
       "0         1  Dear Homeowner,\\n\\n \\n\\nInterest Rates are at ...   \n",
       "1         1  ATTENTION: This is a MUST for ALL Computer Use...   \n",
       "2         1  This is a multi-part message in MIME format.\\n...   \n",
       "3         1  IMPORTANT INFORMATION:\\n\\n\\n\\nThe new domain n...   \n",
       "4         1  This is the bottom line.  If you can GIVE AWAY...   \n",
       "\n",
       "                                FILE_NAME  \n",
       "0  00249.5f45607c1bffe89f60ba1ec9f878039a  \n",
       "1  00373.ebe8670ac56b04125c25100a36ab0510  \n",
       "2  00214.1367039e50dc6b7adb0f2aa8aba83216  \n",
       "3  00210.050ffd105bd4e006771ee63cabc59978  \n",
       "4  00033.9babb58d9298daa2963d4f514193d7d6  "
      ]
     },
     "execution_count": 2,
     "metadata": {},
     "output_type": "execute_result"
    }
   ],
   "source": [
    "df.head()"
   ]
  },
  {
   "cell_type": "code",
   "execution_count": 3,
   "id": "292f91ec",
   "metadata": {},
   "outputs": [],
   "source": [
    "def replacement(df, col):\n",
    "    df[col] = df[col].str.replace(r'<[^<>]*>', '', regex=True)\n",
    "    df[col] = df[col].str.replace(r'http', '', regex=True)\n",
    "    df[col] = df[col].str.replace(r'[^A-Za-z0-9(),!?@\\'\\`\\\"\\_\\n]', '', regex=True)\n",
    "    df[col] = df[col].str.replace(r'\\n', '', regex=True)\n",
    "    df[col] = df[col].str.lower()\n",
    "    return df"
   ]
  },
  {
   "cell_type": "code",
   "execution_count": 4,
   "id": "dd750215",
   "metadata": {},
   "outputs": [],
   "source": [
    "df = replacement(df, 'MESSAGE')"
   ]
  },
  {
   "cell_type": "code",
   "execution_count": 5,
   "id": "d6cc3815",
   "metadata": {},
   "outputs": [
    {
     "name": "stdout",
     "output_type": "stream",
     "text": [
      "<class 'pandas.core.frame.DataFrame'>\n",
      "RangeIndex: 5796 entries, 0 to 5795\n",
      "Data columns (total 3 columns):\n",
      " #   Column     Non-Null Count  Dtype \n",
      "---  ------     --------------  ----- \n",
      " 0   CATEGORY   5796 non-null   int64 \n",
      " 1   MESSAGE    5796 non-null   object\n",
      " 2   FILE_NAME  5796 non-null   object\n",
      "dtypes: int64(1), object(2)\n",
      "memory usage: 136.0+ KB\n"
     ]
    }
   ],
   "source": [
    "df.info()"
   ]
  },
  {
   "cell_type": "code",
   "execution_count": 6,
   "id": "3deeb583",
   "metadata": {},
   "outputs": [
    {
     "name": "stderr",
     "output_type": "stream",
     "text": [
      "[nltk_data] Downloading package stopwords to\n",
      "[nltk_data]     C:\\Users\\twz18\\AppData\\Roaming\\nltk_data...\n",
      "[nltk_data]   Package stopwords is already up-to-date!\n",
      "[nltk_data] Downloading package wordnet to\n",
      "[nltk_data]     C:\\Users\\twz18\\AppData\\Roaming\\nltk_data...\n",
      "[nltk_data]   Package wordnet is already up-to-date!\n",
      "[nltk_data] Downloading package omw-1.4 to\n",
      "[nltk_data]     C:\\Users\\twz18\\AppData\\Roaming\\nltk_data...\n",
      "[nltk_data]   Package omw-1.4 is already up-to-date!\n"
     ]
    }
   ],
   "source": [
    "import nltk\n",
    "nltk.download(\"stopwords\")\n",
    "nltk.download(\"wordnet\")\n",
    "nltk.download('omw-1.4')\n",
    "from nltk.corpus import stopwords\n",
    "from nltk.stem.wordnet import WordNetLemmatizer"
   ]
  },
  {
   "cell_type": "code",
   "execution_count": 7,
   "id": "0a1ba2fe",
   "metadata": {},
   "outputs": [],
   "source": [
    "import string\n",
    "import re\n",
    "clear = re.compile('<.*?>|&([a-z0-9]+|#[0-9]{1,6}|#x[0-9a-f]{1,6});')"
   ]
  },
  {
   "cell_type": "code",
   "execution_count": 8,
   "id": "3655db35",
   "metadata": {},
   "outputs": [],
   "source": [
    "def lemm(text):\n",
    "    repunc = re.sub(clear, ' ', text)\n",
    "    nonstop = [j for j in repunc if j not in set(stopwords.words('english'))]\n",
    "    lem = WordNetLemmatizer()\n",
    "    return \"\".join([lem.lemmatize(j) for j in nonstop])"
   ]
  },
  {
   "cell_type": "code",
   "execution_count": 9,
   "id": "12e65816",
   "metadata": {},
   "outputs": [],
   "source": [
    "df['MESSAGE'] = df['MESSAGE'].apply(lemm)"
   ]
  },
  {
   "cell_type": "code",
   "execution_count": 10,
   "id": "49e16fa8",
   "metadata": {},
   "outputs": [],
   "source": [
    "corpus = df['MESSAGE'].tolist()"
   ]
  },
  {
   "cell_type": "code",
   "execution_count": 11,
   "id": "07003eec",
   "metadata": {},
   "outputs": [
    {
     "data": {
      "text/plain": [
       "0       erhewner,nererereherlwepnn40er!wehelpufnhebere...\n",
       "1       ennhufrllcpueruer!!!newpeclpckgeel!nrnewrk2002...\n",
       "2       hulpregenefr_nexpr_000_1cc19_01c253664b57f30cn...\n",
       "3       prnnfrnhenewnnerefnllvlblehegenerlpublccunprce...\n",
       "4       hheblnefucngvewc'frfreepeple(lke80100nnenh)nhe...\n",
       "                              ...                        \n",
       "5791    'nefhe30,000bu'nwrkngverwellhweekwhheeupenerve...\n",
       "5792    enrnquew3cpprvehl4'eg'nwu'llbeblewhfeelngfrher...\n",
       "5793    nn,200207220650,chewrehhecrreclnebeeurcelfrher...\n",
       "5794    nceupne,nfrewrewullkenllrpelfhveregehenfrnbvng...\n",
       "5795    furunpck,nhenuehe\"newfc\"bunhwnlheegeelecebpck,...\n",
       "Name: MESSAGE, Length: 5796, dtype: object"
      ]
     },
     "execution_count": 11,
     "metadata": {},
     "output_type": "execute_result"
    }
   ],
   "source": [
    "df['MESSAGE']"
   ]
  },
  {
   "cell_type": "code",
   "execution_count": 27,
   "id": "d0ce5c1e",
   "metadata": {},
   "outputs": [],
   "source": [
    "### this step is to save the dataframe into csv file as the above algorithm process too long\n",
    "df.to_csv(\"NLP.csv\", encoding='utf-8')"
   ]
  },
  {
   "cell_type": "code",
   "execution_count": 2,
   "id": "53f66bc2",
   "metadata": {},
   "outputs": [],
   "source": [
    "import pandas as pd\n",
    "df = pd.read_csv(\"NLP.csv\")"
   ]
  },
  {
   "cell_type": "code",
   "execution_count": 3,
   "id": "5c2d19c8",
   "metadata": {},
   "outputs": [],
   "source": [
    "df = df.iloc[:, 1:]"
   ]
  },
  {
   "cell_type": "code",
   "execution_count": 7,
   "id": "3b51bf5f",
   "metadata": {},
   "outputs": [],
   "source": [
    "corpus = df['MESSAGE'].tolist()"
   ]
  },
  {
   "cell_type": "code",
   "execution_count": 12,
   "id": "e925be75",
   "metadata": {},
   "outputs": [],
   "source": [
    "from sklearn.feature_extraction.text import TfidfVectorizer\n",
    "tfidf = TfidfVectorizer(ngram_range=(1, 3))\n",
    "X = tfidf.fit_transform(df['MESSAGE'].values.astype('U'))\n",
    "y = df[\"CATEGORY\"]"
   ]
  },
  {
   "cell_type": "code",
   "execution_count": 13,
   "id": "8f9efcaf",
   "metadata": {},
   "outputs": [],
   "source": [
    "from sklearn.model_selection import train_test_split\n",
    "X_train, X_test, y_train, y_test = train_test_split(X, y, test_size=0.2, random_state=0)"
   ]
  },
  {
   "cell_type": "code",
   "execution_count": 14,
   "id": "5e8dd164",
   "metadata": {},
   "outputs": [],
   "source": [
    "import seaborn as sns"
   ]
  },
  {
   "cell_type": "code",
   "execution_count": 15,
   "id": "95f9e6b1",
   "metadata": {},
   "outputs": [
    {
     "data": {
      "text/plain": [
       "XGBClassifier(base_score=0.5, booster='gbtree', callbacks=None,\n",
       "              colsample_bylevel=1, colsample_bynode=1, colsample_bytree=1,\n",
       "              early_stopping_rounds=None, enable_categorical=False,\n",
       "              eval_metric=None, feature_types=None, gamma=0, gpu_id=-1,\n",
       "              grow_policy='depthwise', importance_type=None,\n",
       "              interaction_constraints='', learning_rate=0.300000012,\n",
       "              max_bin=256, max_cat_threshold=64, max_cat_to_onehot=4,\n",
       "              max_delta_step=0, max_depth=6, max_leaves=0, min_child_weight=1,\n",
       "              missing=nan, monotone_constraints='()', n_estimators=100,\n",
       "              n_jobs=0, num_parallel_tree=1, predictor='auto', random_state=0, ...)"
      ]
     },
     "execution_count": 15,
     "metadata": {},
     "output_type": "execute_result"
    }
   ],
   "source": [
    "import xgboost as xg\n",
    "classifierXg = xg.XGBClassifier()\n",
    "classifierXg.fit(X_train, y_train)"
   ]
  },
  {
   "cell_type": "code",
   "execution_count": 18,
   "id": "0f40df20",
   "metadata": {},
   "outputs": [
    {
     "data": {
      "text/plain": [
       "LGBMClassifier()"
      ]
     },
     "execution_count": 18,
     "metadata": {},
     "output_type": "execute_result"
    }
   ],
   "source": [
    "import lightgbm as lgb\n",
    "classifier = lgb.LGBMClassifier()\n",
    "classifier.fit(X_train, y_train)"
   ]
  },
  {
   "cell_type": "code",
   "execution_count": 20,
   "id": "40a942d6",
   "metadata": {},
   "outputs": [
    {
     "data": {
      "text/plain": [
       "MultinomialNB()"
      ]
     },
     "execution_count": 20,
     "metadata": {},
     "output_type": "execute_result"
    }
   ],
   "source": [
    "from sklearn.naive_bayes import MultinomialNB\n",
    "NB = MultinomialNB()\n",
    "NB.fit(X_train, y_train)"
   ]
  },
  {
   "cell_type": "code",
   "execution_count": 21,
   "id": "6697b946",
   "metadata": {},
   "outputs": [
    {
     "data": {
      "text/plain": [
       "DecisionTreeClassifier()"
      ]
     },
     "execution_count": 21,
     "metadata": {},
     "output_type": "execute_result"
    }
   ],
   "source": [
    "from sklearn import tree\n",
    "dt = tree.DecisionTreeClassifier()\n",
    "dt.fit(X_train, y_train)"
   ]
  },
  {
   "cell_type": "code",
   "execution_count": 22,
   "id": "780931f0",
   "metadata": {},
   "outputs": [
    {
     "data": {
      "text/plain": [
       "KNeighborsClassifier(n_neighbors=2)"
      ]
     },
     "execution_count": 22,
     "metadata": {},
     "output_type": "execute_result"
    }
   ],
   "source": [
    "from sklearn.neighbors import KNeighborsClassifier\n",
    "classifierKNN = KNeighborsClassifier(n_neighbors=2)\n",
    "classifierKNN.fit(X_train, y_train)"
   ]
  },
  {
   "cell_type": "code",
   "execution_count": 23,
   "id": "86b3b168",
   "metadata": {},
   "outputs": [
    {
     "data": {
      "text/plain": [
       "RandomForestClassifier(n_estimators=90)"
      ]
     },
     "execution_count": 23,
     "metadata": {},
     "output_type": "execute_result"
    }
   ],
   "source": [
    "from sklearn.ensemble import RandomForestClassifier\n",
    "rf = RandomForestClassifier(n_estimators = 90)\n",
    "rf.fit(X_train, y_train)"
   ]
  },
  {
   "cell_type": "code",
   "execution_count": 31,
   "id": "896685fa",
   "metadata": {},
   "outputs": [
    {
     "data": {
      "text/plain": [
       "BaggingClassifier()"
      ]
     },
     "execution_count": 31,
     "metadata": {},
     "output_type": "execute_result"
    }
   ],
   "source": [
    "from sklearn.ensemble import BaggingClassifier\n",
    "bagging = BaggingClassifier()\n",
    "bagging.fit(X_train, y_train)"
   ]
  },
  {
   "cell_type": "code",
   "execution_count": 24,
   "id": "5a837d19",
   "metadata": {},
   "outputs": [],
   "source": [
    "def report(model_name, X_test, y_test, model):\n",
    "    y_pred = model.predict(X_test)\n",
    "    from sklearn.metrics import accuracy_score, classification_report, confusion_matrix\n",
    "    acc = accuracy_score(y_pred, y_test)\n",
    "    report = classification_report(y_test, y_pred)\n",
    "    print(report)\n",
    "    cm = confusion_matrix(y_pred, y_test)\n",
    "    sns.heatmap(cm, annot=True)\n",
    "    print(\"Accuracy of \" + model_name + \" Model:\", acc*100,\"%\")"
   ]
  },
  {
   "cell_type": "code",
   "execution_count": 25,
   "id": "89026c91",
   "metadata": {},
   "outputs": [
    {
     "name": "stdout",
     "output_type": "stream",
     "text": [
      "              precision    recall  f1-score   support\n",
      "\n",
      "           0       0.85      0.99      0.92       798\n",
      "           1       0.96      0.63      0.76       362\n",
      "\n",
      "    accuracy                           0.88      1160\n",
      "   macro avg       0.91      0.81      0.84      1160\n",
      "weighted avg       0.89      0.88      0.87      1160\n",
      "\n",
      "Accuracy of XGBoost Model: 87.58620689655172 %\n"
     ]
    },
    {
     "data": {
      "image/png": "[encoded data removed]",
      "text/plain": [
       "<Figure size 432x288 with 2 Axes>"
      ]
     },
     "metadata": {
      "needs_background": "light"
     },
     "output_type": "display_data"
    }
   ],
   "source": [
    "report(\"XGBoost (Boosting)\", X_test, y_test, classifierXg)"
   ]
  },
  {
   "cell_type": "code",
   "execution_count": 26,
   "id": "087b5bac",
   "metadata": {},
   "outputs": [
    {
     "name": "stdout",
     "output_type": "stream",
     "text": [
      "              precision    recall  f1-score   support\n",
      "\n",
      "           0       0.81      0.97      0.89       798\n",
      "           1       0.89      0.51      0.65       362\n",
      "\n",
      "    accuracy                           0.83      1160\n",
      "   macro avg       0.85      0.74      0.77      1160\n",
      "weighted avg       0.84      0.83      0.81      1160\n",
      "\n",
      "Accuracy of lightgbm Model: 82.67241379310344 %\n"
     ]
    },
    {
     "data": {
      "image/png": "[encoded data removed]",
      "text/plain": [
       "<Figure size 432x288 with 2 Axes>"
      ]
     },
     "metadata": {
      "needs_background": "light"
     },
     "output_type": "display_data"
    }
   ],
   "source": [
    "report(\"lightgbm\", X_test, y_test, classifier)"
   ]
  },
  {
   "cell_type": "code",
   "execution_count": 27,
   "id": "7c53014e",
   "metadata": {},
   "outputs": [
    {
     "name": "stdout",
     "output_type": "stream",
     "text": [
      "              precision    recall  f1-score   support\n",
      "\n",
      "           0       0.90      0.99      0.95       798\n",
      "           1       0.98      0.76      0.86       362\n",
      "\n",
      "    accuracy                           0.92      1160\n",
      "   macro avg       0.94      0.88      0.90      1160\n",
      "weighted avg       0.93      0.92      0.92      1160\n",
      "\n",
      "Accuracy of KNN Model: 92.06896551724138 %\n"
     ]
    },
    {
     "data": {
      "image/png": "[encoded data removed]",
      "text/plain": [
       "<Figure size 432x288 with 2 Axes>"
      ]
     },
     "metadata": {
      "needs_background": "light"
     },
     "output_type": "display_data"
    }
   ],
   "source": [
    "report(\"KNN\", X_test, y_test, classifierKNN)"
   ]
  },
  {
   "cell_type": "code",
   "execution_count": 28,
   "id": "e87290ed",
   "metadata": {},
   "outputs": [
    {
     "name": "stdout",
     "output_type": "stream",
     "text": [
      "              precision    recall  f1-score   support\n",
      "\n",
      "           0       0.84      1.00      0.91       798\n",
      "           1       0.99      0.59      0.74       362\n",
      "\n",
      "    accuracy                           0.87      1160\n",
      "   macro avg       0.92      0.79      0.83      1160\n",
      "weighted avg       0.89      0.87      0.86      1160\n",
      "\n",
      "Accuracy of Naive Bayes Model: 86.98275862068967 %\n"
     ]
    },
    {
     "data": {
      "image/png": "[encoded data removed]",
      "text/plain": [
       "<Figure size 432x288 with 2 Axes>"
      ]
     },
     "metadata": {
      "needs_background": "light"
     },
     "output_type": "display_data"
    }
   ],
   "source": [
    "report(\"Naive Bayes\", X_test, y_test, NB)"
   ]
  },
  {
   "cell_type": "code",
   "execution_count": 29,
   "id": "e577f5f5",
   "metadata": {},
   "outputs": [
    {
     "name": "stdout",
     "output_type": "stream",
     "text": [
      "              precision    recall  f1-score   support\n",
      "\n",
      "           0       0.90      0.98      0.94       798\n",
      "           1       0.96      0.76      0.85       362\n",
      "\n",
      "    accuracy                           0.91      1160\n",
      "   macro avg       0.93      0.87      0.89      1160\n",
      "weighted avg       0.92      0.91      0.91      1160\n",
      "\n",
      "Accuracy of Decision Tree Model: 91.46551724137932 %\n"
     ]
    },
    {
     "data": {
      "image/png": "[encoded data removed]",
      "text/plain": [
       "<Figure size 432x288 with 2 Axes>"
      ]
     },
     "metadata": {
      "needs_background": "light"
     },
     "output_type": "display_data"
    }
   ],
   "source": [
    "report(\"Decision Tree\", X_test, y_test, dt)"
   ]
  },
  {
   "cell_type": "code",
   "execution_count": 30,
   "id": "3d19e4bb",
   "metadata": {},
   "outputs": [
    {
     "name": "stdout",
     "output_type": "stream",
     "text": [
      "              precision    recall  f1-score   support\n",
      "\n",
      "           0       0.89      0.99      0.94       798\n",
      "           1       0.98      0.72      0.83       362\n",
      "\n",
      "    accuracy                           0.91      1160\n",
      "   macro avg       0.93      0.86      0.88      1160\n",
      "weighted avg       0.92      0.91      0.90      1160\n",
      "\n",
      "Accuracy of Random Forest Model: 90.77586206896552 %\n"
     ]
    },
    {
     "data": {
      "image/png": "[encoded data removed]",
      "text/plain": [
       "<Figure size 432x288 with 2 Axes>"
      ]
     },
     "metadata": {
      "needs_background": "light"
     },
     "output_type": "display_data"
    }
   ],
   "source": [
    "report(\"Random Forest\", X_test, y_test, rf)"
   ]
  },
  {
   "cell_type": "code",
   "execution_count": 32,
   "id": "c847e24f",
   "metadata": {},
   "outputs": [
    {
     "name": "stdout",
     "output_type": "stream",
     "text": [
      "              precision    recall  f1-score   support\n",
      "\n",
      "           0       0.88      0.99      0.93       798\n",
      "           1       0.96      0.70      0.81       362\n",
      "\n",
      "    accuracy                           0.90      1160\n",
      "   macro avg       0.92      0.85      0.87      1160\n",
      "weighted avg       0.91      0.90      0.89      1160\n",
      "\n",
      "Accuracy of Bagging Model: 89.91379310344828 %\n"
     ]
    },
    {
     "data": {
      "image/png": "[encoded data removed]",
      "text/plain": [
       "<Figure size 432x288 with 2 Axes>"
      ]
     },
     "metadata": {
      "needs_background": "light"
     },
     "output_type": "display_data"
    }
   ],
   "source": [
    "report('Bagging', X_test, y_test, bagging)"
   ]
  }
 ],
 "metadata": {
  "kernelspec": {
   "display_name": "Python 3 (ipykernel)",
   "language": "python",
   "name": "python3"
  },
  "language_info": {
   "codemirror_mode": {
    "name": "ipython",
    "version": 3
   },
   "file_extension": ".py",
   "mimetype": "text/x-python",
   "name": "python",
   "nbconvert_exporter": "python",
   "pygments_lexer": "ipython3",
   "version": "3.9.12"
  }
 },
 "nbformat": 4,
 "nbformat_minor": 5
}
